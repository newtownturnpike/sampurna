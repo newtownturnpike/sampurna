!pip install pandas
!pip install numpy
!pip install altair
!pip install tabulate

print("hello, world!")
